{
 "cells": [
  {
   "cell_type": "code",
   "execution_count": 1,
   "metadata": {},
   "outputs": [],
   "source": [
    "from IPython.core.interactiveshell import InteractiveShell\n",
    "InteractiveShell.ast_node_interactivity='all'"
   ]
  },
  {
   "cell_type": "code",
   "execution_count": 2,
   "metadata": {},
   "outputs": [],
   "source": [
    "# 参考：https://www.jianshu.com/p/9503238394df\n",
    "\n",
    "class TreeNode:\n",
    "    # 初始化对象\n",
    "    def __init__(self, x):\n",
    "        '''\n",
    "        在初始化TreeNode时，就初始化了一个对象，这个对象self，将外部的局部变量x传给对象，\n",
    "        self的取值会在整个类下流通，共用\n",
    "        '''\n",
    "        self.val = x\n",
    "        self.left = None\n",
    "        self.right = None\n",
    "class Solution:\n",
    "    ##############################\n",
    "    # 先序遍历\n",
    "    ##############################\n",
    "    def preorder_recursion(root):\n",
    "        '''\n",
    "        先序遍历递归\n",
    "        '''\n",
    "        res = []\n",
    "        def helper(root):\n",
    "            if not root:\n",
    "                return \n",
    "            res.append(root.val)\n",
    "            helper(root.left)\n",
    "            helper(root.right)\n",
    "        helper(root)\n",
    "        return res\n",
    " \n",
    "    def preorder(root):\n",
    "        '''\n",
    "        先序遍历非递归\n",
    "        先序其实就是左侧优先遍历到底，再遍历右侧，右侧的右侧\n",
    "        单个栈:根出栈，右侧进栈，左侧进站\n",
    "        '''\n",
    "        stack = [root]\n",
    "        res = []\n",
    "        while stack:\n",
    "            pop_cur = stack.pop()\n",
    "            res.append(pop_cur.val)\n",
    "            # cur的右侧先入栈然后左侧节点入栈\n",
    "            if pop_cur.right:\n",
    "                stack.append(pop_cur.right)\n",
    "            if pop_cur.left:\n",
    "                stack.append(pop_cur.left)\n",
    "        return res\n",
    "    \n",
    "    \n",
    "    ##############################\n",
    "    # 中序遍历\n",
    "    ##############################\n",
    "    def inorder_recursion(root):\n",
    "        '''\n",
    "        中序遍历递归\n",
    "        '''\n",
    "        res = []\n",
    "        def helper(root):\n",
    "            if not root:\n",
    "                return \n",
    "            helper(root.left)\n",
    "            res.append(root.val)\n",
    "            helper(root.right)\n",
    "        helper(root)\n",
    "        return res\n",
    "\n",
    "    def inorder(root):\n",
    "        '''\n",
    "        中序遍历非递归\n",
    "        栈 + 指针: 先用指针找到每颗子树的最左下角不断进栈，出栈指针往右节点指\n",
    "        '''\n",
    "        stack = []\n",
    "        cur = root\n",
    "        res = []\n",
    "        while cur or stack:\n",
    "            while cur:\n",
    "                stack.append(cur)\n",
    "                cur = cur.left\n",
    "            cur = stack.pop()\n",
    "            res.append(cur.val)\n",
    "            cur = cur.right\n",
    "        return res\n",
    "    \n",
    "    ##############################\n",
    "    # 后序遍历\n",
    "    ##############################\n",
    "    def postorder_recursion(root):\n",
    "        '''\n",
    "        后序遍历递归\n",
    "        '''\n",
    "        res = []\n",
    "        def helper(root):\n",
    "            if not root:\n",
    "                return \n",
    "            helper(root.left)\n",
    "            helper(root.right)\n",
    "            res.append(root.val)\n",
    "        helper(root)\n",
    "        return res\n",
    "\n",
    "    def postorder(root):\n",
    "        '''\n",
    "        后序遍历非递归\n",
    "        双栈:节点先入栈1，出栈入栈2，同时将出栈节点的左侧、右侧分别先后入栈1，直至栈1为空，\n",
    "             倒出栈2的内容即为最终结果\n",
    "        '''\n",
    "        stack1 = [root]\n",
    "        stack2 = []\n",
    "        res = []\n",
    "        while stack1:\n",
    "            pop_cur = stack1.pop()\n",
    "            stack2.append(pop_cur)\n",
    "            # cur的左侧先入栈1然后右侧节点入栈1\n",
    "            if pop_cur.left:\n",
    "                stack1.append(pop_cur.left)\n",
    "            if pop_cur.right:\n",
    "                stack1.append(pop_cur.right)\n",
    "        while stack2:\n",
    "            res.append(stack2.pop().val)\n",
    "        return res\n",
    "    \n",
    "    ##############################\n",
    "    # 层次遍历（BFS广度优先）（先进先出->队列）\n",
    "    ##############################\n",
    "    def levelorder(root):\n",
    "        queque = [root]\n",
    "        res = []\n",
    "        while queque:\n",
    "            cur = queque.pop(0)\n",
    "            res.append(cur.val)\n",
    "            if cur.left:\n",
    "                queque.append(cur.left)\n",
    "            if cur.right:\n",
    "                queque.append(cur.right)\n",
    "        return res\n",
    "    \n",
    "    ##############################\n",
    "    # 深度遍历（DFS深度优先 = 先序遍历）（后进先出->栈）\n",
    "    ##############################\n",
    "    def deeporder(root):\n",
    "        stack = [root]\n",
    "        res = []\n",
    "        while stack:\n",
    "            cur = stack.pop()\n",
    "            res.append(cur.val)\n",
    "            if cur.right:\n",
    "                stack.append(cur.right)\n",
    "            if cur.left:\n",
    "                stack.append(cur.left)\n",
    "        return res"
   ]
  },
  {
   "cell_type": "code",
   "execution_count": 3,
   "metadata": {},
   "outputs": [
    {
     "name": "stdout",
     "output_type": "stream",
     "text": [
      "======================= 先序遍历 =======================\n"
     ]
    },
    {
     "data": {
      "text/plain": [
       "[1, 2, 4, 5, 3, 6, 7]"
      ]
     },
     "execution_count": 3,
     "metadata": {},
     "output_type": "execute_result"
    },
    {
     "name": "stdout",
     "output_type": "stream",
     "text": [
      "======================= 先序遍历非递归 =======================\n"
     ]
    },
    {
     "data": {
      "text/plain": [
       "[1, 2, 4, 5, 3, 6, 7]"
      ]
     },
     "execution_count": 3,
     "metadata": {},
     "output_type": "execute_result"
    },
    {
     "name": "stdout",
     "output_type": "stream",
     "text": [
      "======================= 中序遍历 =======================\n"
     ]
    },
    {
     "data": {
      "text/plain": [
       "[4, 2, 5, 1, 6, 3, 7]"
      ]
     },
     "execution_count": 3,
     "metadata": {},
     "output_type": "execute_result"
    },
    {
     "name": "stdout",
     "output_type": "stream",
     "text": [
      "======================= 中序遍历非递归 =======================\n"
     ]
    },
    {
     "data": {
      "text/plain": [
       "[4, 2, 5, 1, 6, 3, 7]"
      ]
     },
     "execution_count": 3,
     "metadata": {},
     "output_type": "execute_result"
    },
    {
     "name": "stdout",
     "output_type": "stream",
     "text": [
      "======================= 后序遍历 =======================\n"
     ]
    },
    {
     "data": {
      "text/plain": [
       "[4, 5, 2, 6, 7, 3, 1]"
      ]
     },
     "execution_count": 3,
     "metadata": {},
     "output_type": "execute_result"
    },
    {
     "name": "stdout",
     "output_type": "stream",
     "text": [
      "======================= 后序遍历非递归 =======================\n"
     ]
    },
    {
     "data": {
      "text/plain": [
       "[4, 5, 2, 6, 7, 3, 1]"
      ]
     },
     "execution_count": 3,
     "metadata": {},
     "output_type": "execute_result"
    },
    {
     "name": "stdout",
     "output_type": "stream",
     "text": [
      "======================= 广度优先 =======================\n"
     ]
    },
    {
     "data": {
      "text/plain": [
       "[1, 2, 3, 4, 5, 6, 7]"
      ]
     },
     "execution_count": 3,
     "metadata": {},
     "output_type": "execute_result"
    },
    {
     "name": "stdout",
     "output_type": "stream",
     "text": [
      "======================= 深度优先 =======================\n"
     ]
    },
    {
     "data": {
      "text/plain": [
       "[1, 2, 4, 5, 3, 6, 7]"
      ]
     },
     "execution_count": 3,
     "metadata": {},
     "output_type": "execute_result"
    }
   ],
   "source": [
    "# 建立树\n",
    "root = TreeNode(1)\n",
    "root.left = TreeNode(2)\n",
    "root.right = TreeNode(3)\n",
    "root.left.left = TreeNode(4)\n",
    "root.left.right = TreeNode(5)\n",
    "root.right.left = TreeNode(6)\n",
    "root.right.right = TreeNode(7)\n",
    "\n",
    "\n",
    "print('======================= 先序遍历 =======================')\n",
    "Solution.preorder_recursion(root)\n",
    "print('======================= 先序遍历非递归 =======================')\n",
    "Solution.preorder(root)\n",
    "\n",
    "\n",
    "print('======================= 中序遍历 =======================')\n",
    "Solution.inorder_recursion(root)\n",
    "print('======================= 中序遍历非递归 =======================')\n",
    "Solution.inorder(root)\n",
    "\n",
    "\n",
    "print('======================= 后序遍历 =======================')\n",
    "Solution.postorder_recursion(root)\n",
    "print('======================= 后序遍历非递归 =======================')\n",
    "Solution.postorder(root)\n",
    "\n",
    "\n",
    "print('======================= 广度优先 =======================')\n",
    "Solution.levelorder(root)\n",
    "\n",
    "\n",
    "print('======================= 深度优先 =======================')\n",
    "Solution.deeporder(root)"
   ]
  },
  {
   "cell_type": "code",
   "execution_count": null,
   "metadata": {},
   "outputs": [],
   "source": []
  }
 ],
 "metadata": {
  "kernelspec": {
   "display_name": "Python 3",
   "language": "python",
   "name": "python3"
  },
  "language_info": {
   "codemirror_mode": {
    "name": "ipython",
    "version": 3
   },
   "file_extension": ".py",
   "mimetype": "text/x-python",
   "name": "python",
   "nbconvert_exporter": "python",
   "pygments_lexer": "ipython3",
   "version": "3.6.4"
  }
 },
 "nbformat": 4,
 "nbformat_minor": 2
}
